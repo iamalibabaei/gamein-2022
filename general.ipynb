{
 "cells": [
  {
   "cell_type": "code",
   "execution_count": 1,
   "metadata": {
    "ExecuteTime": {
     "start_time": "2023-05-17T15:44:07.304802Z",
     "end_time": "2023-05-17T15:44:07.305085Z"
    }
   },
   "outputs": [],
   "source": [
    "from models.transportation import *\n",
    "from models.products.raw import RawMaterialList\n",
    "from models.products.middle_one import MiddleLevelOneList\n",
    "from models.products.middle_two import MiddleLevelTwoList\n",
    "from models.products.final import FinalList\n",
    "from models.building import *\n",
    "from main import *\n",
    "from  mean_data import *\n",
    "from  min_data import *\n",
    "from  max_data import *\n",
    "\n",
    "bus = Bus()\n",
    "ship = Ship()\n",
    "air_plane = AirPlane()\n",
    "\n",
    "production = Production()\n",
    "assembly = Assembly()\n",
    "recycle = Recycle()\n",
    "inventory = Inventory()\n"
   ]
  },
  {
   "cell_type": "code",
   "execution_count": 2,
   "metadata": {
    "ExecuteTime": {
     "start_time": "2023-05-17T15:44:07.304923Z",
     "end_time": "2023-05-17T15:44:08.006486Z"
    }
   },
   "outputs": [
    {
     "name": "stdout",
     "output_type": "stream",
     "text": [
      "Requirement already satisfied: tabulate in ./venv/lib/python3.10/site-packages (0.9.0)\r\n",
      "\r\n",
      "\u001B[1m[\u001B[0m\u001B[34;49mnotice\u001B[0m\u001B[1;39;49m]\u001B[0m\u001B[39;49m A new release of pip available: \u001B[0m\u001B[31;49m22.3.1\u001B[0m\u001B[39;49m -> \u001B[0m\u001B[32;49m23.1.2\u001B[0m\r\n",
      "\u001B[1m[\u001B[0m\u001B[34;49mnotice\u001B[0m\u001B[1;39;49m]\u001B[0m\u001B[39;49m To update, run: \u001B[0m\u001B[32;49mpip install --upgrade pip\u001B[0m\r\n",
      "GPhone3 Data\n",
      "\n",
      "Buy mean Sell max\n",
      "-----  --------------  ------------  ----------------\n",
      "count  profit percent  total profit  cach flow needed\n",
      "100    -0.58           -4.0          6.0\n",
      "200    -0.35           -4.0          8.0\n",
      "300    -0.21           -3.0          10.0\n",
      "400    -0.11           -2.0          12.0\n",
      "500    -0.04           -1.0          14.0\n",
      "600    0.02            0.0           16.0\n",
      "700    0.06            1.0           18.0\n",
      "800    0.1             2.0           20.0\n",
      "900    0.13            2.0           22.0\n",
      "1000   0.15            3.0           24.0\n",
      "1100   0.18            4.0           26.0\n",
      "1200   0.19            5.0           27.0\n",
      "1300   0.21            6.0           29.0\n",
      "1400   0.22            7.0           31.0\n",
      "1500   0.24            7.0           33.0\n",
      "1600   0.25            8.0           35.0\n",
      "1700   0.26            9.0           37.0\n",
      "1800   0.27            10.0          39.0\n",
      "1900   0.27            11.0          41.0\n",
      "2000   0.28            12.0          43.0\n",
      "2100   0.29            13.0          45.0\n",
      "2200   0.29            13.0          47.0\n",
      "2300   0.3             14.0          49.0\n",
      "2400   0.31            15.0          51.0\n",
      "2500   0.31            16.0          53.0\n",
      "2600   0.32            17.0          55.0\n",
      "2700   0.32            18.0          56.0\n",
      "2800   0.32            19.0          58.0\n",
      "2900   0.33            19.0          60.0\n",
      "3000   0.33            20.0          62.0\n",
      "-----  --------------  ------------  ----------------\n"
     ]
    }
   ],
   "source": [
    "!pip install tabulate\n",
    "\n",
    "from tabulate import tabulate\n",
    "\n",
    "product = FinalList.GPhone3.value\n",
    "print(f\"{product.name} Data\")\n",
    "print()\n",
    "\n",
    "BUY = \"mean\"\n",
    "SELL = \"max\"\n",
    "\n",
    "\n",
    "\n",
    "print(f\"Buy {BUY} Sell {SELL}\")\n",
    "data = [[\"count\", \"profit percent\", \"total profit\", \"cach flow needed\"]]\n",
    "for production_count in range(100, 3001, 100):\n",
    "    if BUY == \"mean\":\n",
    "        per_product_price = get_mean_price_with_inventory(air_plane, product, production_count, 2)\n",
    "    elif BUY == \"max\":\n",
    "        per_product_price = get_max_price_with_inventory(air_plane, product, production_count, 2)\n",
    "    elif BUY == \"min\":\n",
    "        per_product_price = get_min_price_with_inventory(air_plane, product, production_count, 2)\n",
    "\n",
    "    if SELL == \"mean\":\n",
    "        price = product.mean_price\n",
    "    elif SELL == \"max\":\n",
    "        price = product.max_price\n",
    "    elif SELL == \"min\":\n",
    "        price = product.min_price\n",
    "\n",
    "    data.append(\n",
    "        [\n",
    "            production_count,\n",
    "            calculate_profit(price, per_product_price),\n",
    "            ((price - per_product_price) * production_count) // 1_000_000,\n",
    "            (per_product_price * production_count) // 1_000_000\n",
    "        ])\n",
    "print(tabulate(data))\n"
   ]
  }
 ],
 "metadata": {
  "kernelspec": {
   "display_name": "Python 3 (ipykernel)",
   "language": "python",
   "name": "python3"
  },
  "language_info": {
   "codemirror_mode": {
    "name": "ipython",
    "version": 3
   },
   "file_extension": ".py",
   "mimetype": "text/x-python",
   "name": "python",
   "nbconvert_exporter": "python",
   "pygments_lexer": "ipython3",
   "version": "3.10.4"
  }
 },
 "nbformat": 4,
 "nbformat_minor": 1
}
