{
 "cells": [
  {
   "cell_type": "code",
   "execution_count": 1,
   "metadata": {
    "pycharm": {
     "is_executing": true
    }
   },
   "outputs": [
    {
     "name": "stdout",
     "output_type": "stream",
     "text": [
      "MiddleLevelOneList\n",
      "Modem 2G 690\n",
      "DisplayKeypad 1590\n",
      "PhoneBattery 816\n",
      "PhoneKeypad 2460\n",
      "Camera 1200\n",
      "Modem3G 950\n",
      "PhoneFrame 1380\n",
      "TouchDisplay 4800\n",
      "MiddleLevelTwoList\n",
      "Communication2G 3825\n",
      "MediaNoCamera 800\n",
      "PhoneBody1 10575\n",
      "Communication3G 5550\n",
      "MediaSingleCamera 4300\n",
      "PhoneBody2 17325\n",
      "Final\n",
      "GPhone1 54100\n",
      "GPhone2 61500\n",
      "GPhone3 61500\n"
     ]
    }
   ],
   "source": [
    "from models.transportation import *\n",
    "from models.products.raw import RawMaterialList\n",
    "from models.products.middle_one import MiddleLevelOneList\n",
    "from models.products.middle_two import MiddleLevelTwoList\n",
    "from models.products.final import FinalList\n",
    "from models.building import *\n",
    "from main import *\n",
    "\n",
    "bus = Buss()\n",
    "ship = Ship()\n",
    "air_plane = AirPlane()\n",
    "\n",
    "production = Production()\n",
    "assembly = Assembly()\n",
    "recycle = Recycle()\n",
    "inventory = Inventory()\n"
   ]
  },
  {
   "cell_type": "code",
   "execution_count": 2,
   "metadata": {},
   "outputs": [
    {
     "name": "stdout",
     "output_type": "stream",
     "text": [
      "Max Price\n",
      "MiddleLevelOneList:\n",
      "Modem 2G: 690\n",
      "DisplayKeypad: 1590\n",
      "PhoneBattery: 816\n",
      "PhoneKeypad: 2460\n",
      "Camera: 1200\n",
      "Modem3G: 950\n",
      "PhoneFrame: 1380\n",
      "TouchDisplay: 4800\n",
      "-----------------------------------------\n",
      "MiddleLevelTwoList:\n",
      "Communication2G: 3825\n",
      "MediaNoCamera: 800\n",
      "PhoneBody1: 10575\n",
      "Communication3G: 5550\n",
      "MediaSingleCamera: 4300\n",
      "PhoneBody2: 17325\n",
      "-----------------------------------------\n",
      "Final:\n",
      "GPhone1: 54100\n",
      "GPhone2: 61500\n",
      "GPhone3: 61500\n",
      "-----------------------------------------\n"
     ]
    }
   ],
   "source": [
    "print(\"Max Price\")\n",
    "print(\"MiddleLevelOneList:\")\n",
    "for product in MiddleLevelOneList:\n",
    "      print(f\"{product.value.name}: {product.value.get_max_price()}\")\n",
    "print(\"-----------------------------------------\")\n",
    "\n",
    "print(\"MiddleLevelTwoList:\")\n",
    "for product in MiddleLevelTwoList:\n",
    "      print(f\"{product.value.name}: {product.value.get_max_price()}\")\n",
    "print(\"-----------------------------------------\")\n",
    "\n",
    "print(\"Final:\")\n",
    "for product in FinalList:\n",
    "    print(f\"{product.value.name}: {product.value.get_max_price()}\")\n",
    "print(\"-----------------------------------------\")\n",
    "    "
   ]
  },
  {
   "cell_type": "code",
   "execution_count": 3,
   "metadata": {},
   "outputs": [
    {
     "name": "stdout",
     "output_type": "stream",
     "text": [
      "Min Price\n",
      "MiddleLevelOneList:\n",
      "Modem 2G: 690\n",
      "DisplayKeypad: 1590\n",
      "PhoneBattery: 816\n",
      "PhoneKeypad: 2460\n",
      "Camera: 1200\n",
      "Modem3G: 950\n",
      "PhoneFrame: 1380\n",
      "TouchDisplay: 4800\n",
      "-----------------------------------------\n",
      "MiddleLevelTwoList:\n",
      "Communication2G: 2325\n",
      "MediaNoCamera: 800\n",
      "PhoneBody1: 7075\n",
      "Communication3G: 3550\n",
      "MediaSingleCamera: 3200\n",
      "PhoneBody2: 13625\n",
      "-----------------------------------------\n",
      "Final:\n",
      "GPhone1: 32700\n",
      "GPhone2: 41800\n",
      "GPhone3: 41800\n",
      "-----------------------------------------\n"
     ]
    }
   ],
   "source": [
    "print(\"Min Price\")\n",
    "print(\"MiddleLevelOneList:\")\n",
    "for product in MiddleLevelOneList:\n",
    "      print(f\"{product.value.name}: {product.value.get_min_price()}\")\n",
    "print(\"-----------------------------------------\")\n",
    "\n",
    "print(\"MiddleLevelTwoList:\")\n",
    "for product in MiddleLevelTwoList:\n",
    "      print(f\"{product.value.name}: {product.value.get_min_price()}\")\n",
    "print(\"-----------------------------------------\")\n",
    "\n",
    "print(\"Final:\")\n",
    "for product in FinalList:\n",
    "    print(f\"{product.value.name}: {product.value.get_min_price()}\")\n",
    "print(\"-----------------------------------------\")\n",
    "    "
   ]
  },
  {
   "cell_type": "code",
   "execution_count": 4,
   "metadata": {},
   "outputs": [
    {
     "name": "stdout",
     "output_type": "stream",
     "text": [
      "Wiht Transportaion\n",
      "Middle Level One List:\n",
      "Modem 2G: 1594.0\n",
      "DisplayKeypad: 3025.0\n",
      "PhoneBattery: 2104.0\n",
      "PhoneKeypad: 4502.0\n",
      "Camera: 2850.0\n",
      "Modem3G: 2018.0\n",
      "PhoneFrame: 3579.0\n",
      "TouchDisplay: 10419.0\n",
      "-----------------------------------------\n"
     ]
    }
   ],
   "source": [
    "print(\"Wiht Transportaion\")\n",
    "print(\"Middle Level One List:\")\n",
    "for product in MiddleLevelOneList:\n",
    "      print(f\"{product.value.name}: {get_total_price(air_plane, product.value, 1000, 2)}\")\n",
    "print(\"-----------------------------------------\")\n"
   ]
  },
  {
   "cell_type": "code",
   "execution_count": 5,
   "metadata": {},
   "outputs": [
    {
     "name": "stdout",
     "output_type": "stream",
     "text": [
      "Wiht Transportaion\n",
      "Final List:\n",
      "GPhone1: 71785.0, 71864.0, 72300.0\n",
      "GPhone2: 84667.0, 84719.0, 85051.0\n",
      "GPhone3: 80752.0, 80808.0, 81150.0\n",
      "-----------------------------------------\n"
     ]
    }
   ],
   "source": [
    "print(\"Wiht Transportaion\")\n",
    "print(\"Final List:\")\n",
    "production_count = 2000\n",
    "for product in FinalList:\n",
    "      print(f\"{product.value.name}: {get_total_price(bus, product.value, production_count, 2)}, {get_total_price(ship, product.value, production_count, 2)}, {get_total_price(air_plane, product.value, production_count, 2)}\")\n",
    "print(\"-----------------------------------------\")\n"
   ]
  },
  {
   "cell_type": "code",
   "execution_count": 11,
   "metadata": {
    "scrolled": true
   },
   "outputs": [
    {
     "name": "stdout",
     "output_type": "stream",
     "text": [
      "Wiht Transportaion\n",
      "Final List:\n",
      "GPhone1: 67172.0, 67213.0, 67409.0\n",
      "9863\n",
      "7400\n",
      "GPhone2: 76760.0, 76782.0, 76893.0\n",
      "11598\n",
      "11100\n",
      "GPhone3: 77099.0, 77135.0, 77328.0\n",
      "11913\n",
      "4810\n",
      "-----------------------------------------\n"
     ]
    }
   ],
   "source": [
    "print(\"Wiht Transportaion\")\n",
    "print(\"Final List:\")\n",
    "production_count = 8000\n",
    "for product in FinalList:\n",
    "    production_count = 37 * product.value.production_rate\n",
    "    print(f\"{product.value.name}: {get_total_price(bus, product.value, production_count, 2)}, {get_total_price(ship, product.value, production_count, 2)}, {get_total_price(air_plane, product.value, production_count, 2)}\")\n",
    "    print(product.value.get_variable_price(production_count) // production_count)  \n",
    "    print(production_count)\n",
    "print(\"-----------------------------------------\")\n"
   ]
  },
  {
   "cell_type": "code",
   "execution_count": 10,
   "metadata": {},
   "outputs": [
    {
     "name": "stdout",
     "output_type": "stream",
     "text": [
      "Wiht Transportaion\n",
      "Middle List Two List:\n",
      "Communication2G: 5111.0, 5131.0, 5307.0\n",
      "1015\n",
      "2590\n",
      "MediaNoCamera: 2196.0, 2206.0, 2353.0\n",
      "1260\n",
      "2220\n",
      "PhoneBody1: 16369.0, 16434.0, 16790.0\n",
      "4987\n",
      "2590\n",
      "Communication3G: 7605.0, 7627.0, 7789.0\n",
      "1672\n",
      "3330\n",
      "MediaSingleCamera: 6061.0, 6081.0, 6205.0\n",
      "1460\n",
      "5550\n",
      "PhoneBody2: 24378.0, 24393.0, 24473.0\n",
      "5886\n",
      "10730\n",
      "-----------------------------------------\n"
     ]
    }
   ],
   "source": [
    "print(\"Wiht Transportaion\")\n",
    "print(\"Middle List Two List:\")\n",
    "production_count = 8000\n",
    "for product in MiddleLevelTwoList:\n",
    "    production_count = 37 * product.value.production_rate\n",
    "    print(f\"{product.value.name}: {get_total_price(bus, product.value, production_count, 2)}, {get_total_price(ship, product.value, production_count, 2)}, {get_total_price(air_plane, product.value, production_count, 2)}\")\n",
    "    print(product.value.get_variable_price(production_count) // production_count) \n",
    "    print(production_count)\n",
    "print(\"-----------------------------------------\")\n"
   ]
  }
 ],
 "metadata": {
  "kernelspec": {
   "display_name": "Python 3 (ipykernel)",
   "language": "python",
   "name": "python3"
  },
  "language_info": {
   "codemirror_mode": {
    "name": "ipython",
    "version": 3
   },
   "file_extension": ".py",
   "mimetype": "text/x-python",
   "name": "python",
   "nbconvert_exporter": "python",
   "pygments_lexer": "ipython3",
   "version": "3.10.6"
  }
 },
 "nbformat": 4,
 "nbformat_minor": 1
}
