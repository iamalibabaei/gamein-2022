{
 "cells": [
  {
   "cell_type": "code",
   "execution_count": 19,
   "metadata": {
    "ExecuteTime": {
     "end_time": "2023-05-11T13:18:24.833942Z",
     "start_time": "2023-05-11T13:18:24.745001Z"
    }
   },
   "outputs": [],
   "source": [
    "from models.transportation import *\n",
    "from models.products.raw import RawMaterialList\n",
    "from models.products.middle_one import MiddleLevelOneList\n",
    "from models.products.middle_two import MiddleLevelTwoList\n",
    "from models.products.final import FinalList\n",
    "from models.building import *\n",
    "from main import *\n",
    "\n",
    "bus = Buss()\n",
    "ship = Ship()\n",
    "air_plane = AirPlane()\n",
    "\n",
    "production = Production()\n",
    "assembly = Assembly()\n",
    "recycle = Recycle()\n",
    "inventory = Inventory()\n"
   ]
  },
  {
   "cell_type": "code",
   "execution_count": 20,
   "metadata": {
    "ExecuteTime": {
     "end_time": "2023-05-11T13:18:24.846020Z",
     "start_time": "2023-05-11T13:18:24.785371Z"
    }
   },
   "outputs": [
    {
     "name": "stdout",
     "output_type": "stream",
     "text": [
      "Max Price\n",
      "MiddleLevelOneList:\n",
      "Modem 2G: 690\n",
      "DisplayKeypad: 1590\n",
      "PhoneBattery: 816\n",
      "PhoneKeypad: 2460\n",
      "Camera: 1200\n",
      "Modem3G: 950\n",
      "PhoneFrame: 1380\n",
      "TouchDisplay: 4800\n",
      "-----------------------------------------\n",
      "MiddleLevelTwoList:\n",
      "Communication2G: 1645\n",
      "MediaNoCamera: 800\n",
      "PhoneBody1: 5515\n",
      "Communication3G: 2710\n",
      "MediaSingleCamera: 1870\n",
      "PhoneBody2: 5645\n",
      "-----------------------------------------\n",
      "Final:\n",
      "GPhone1: 15450\n",
      "GPhone2: 15360\n",
      "GPhone3: 16570\n",
      "-----------------------------------------\n"
     ]
    }
   ],
   "source": [
    "print(\"Max Price\")\n",
    "print(\"MiddleLevelOneList:\")\n",
    "for product in MiddleLevelOneList:\n",
    "      print(f\"{product.value.name}: {product.value.get_max_price()}\")\n",
    "print(\"-----------------------------------------\")\n",
    "\n",
    "print(\"MiddleLevelTwoList:\")\n",
    "for product in MiddleLevelTwoList:\n",
    "      print(f\"{product.value.name}: {product.value.get_max_price()}\")\n",
    "print(\"-----------------------------------------\")\n",
    "\n",
    "print(\"Final:\")\n",
    "for product in FinalList:\n",
    "    print(f\"{product.value.name}: {product.value.get_max_price()}\")\n",
    "print(\"-----------------------------------------\")\n",
    "    "
   ]
  },
  {
   "cell_type": "code",
   "execution_count": 21,
   "metadata": {
    "ExecuteTime": {
     "end_time": "2023-05-11T13:18:24.846485Z",
     "start_time": "2023-05-11T13:18:24.785562Z"
    }
   },
   "outputs": [
    {
     "name": "stdout",
     "output_type": "stream",
     "text": [
      "Min Price\n",
      "MiddleLevelOneList:\n",
      "Modem 2G: 690\n",
      "DisplayKeypad: 1590\n",
      "PhoneBattery: 816\n",
      "PhoneKeypad: 2460\n",
      "Camera: 1200\n",
      "Modem3G: 950\n",
      "PhoneFrame: 1380\n",
      "TouchDisplay: 4800\n",
      "-----------------------------------------\n",
      "MiddleLevelTwoList:\n",
      "Communication2G: 1405\n",
      "MediaNoCamera: 800\n",
      "PhoneBody1: 4425\n",
      "Communication3G: 2370\n",
      "MediaSingleCamera: 1670\n",
      "PhoneBody2: 4555\n",
      "-----------------------------------------\n",
      "Final:\n",
      "GPhone1: 13600\n",
      "GPhone2: 13520\n",
      "GPhone3: 14580\n",
      "-----------------------------------------\n"
     ]
    }
   ],
   "source": [
    "print(\"Min Price\")\n",
    "print(\"MiddleLevelOneList:\")\n",
    "for product in MiddleLevelOneList:\n",
    "      print(f\"{product.value.name}: {product.value.get_min_price()}\")\n",
    "print(\"-----------------------------------------\")\n",
    "\n",
    "print(\"MiddleLevelTwoList:\")\n",
    "for product in MiddleLevelTwoList:\n",
    "      print(f\"{product.value.name}: {product.value.get_min_price()}\")\n",
    "print(\"-----------------------------------------\")\n",
    "\n",
    "print(\"Final:\")\n",
    "for product in FinalList:\n",
    "    print(f\"{product.value.name}: {product.value.get_min_price()}\")\n",
    "print(\"-----------------------------------------\")\n",
    "    "
   ]
  },
  {
   "cell_type": "code",
   "execution_count": 22,
   "metadata": {
    "ExecuteTime": {
     "end_time": "2023-05-11T13:18:24.846732Z",
     "start_time": "2023-05-11T13:18:24.785735Z"
    }
   },
   "outputs": [
    {
     "name": "stdout",
     "output_type": "stream",
     "text": [
      "Wiht Transportaion\n",
      "Middle Level One List:\n",
      "Modem 2G: 1292.0\n",
      "DisplayKeypad: 2456.0\n",
      "PhoneBattery: 1692.0\n",
      "PhoneKeypad: 3694.0\n",
      "Camera: 2197.0\n",
      "Modem3G: 1644.0\n",
      "PhoneFrame: 2501.0\n",
      "TouchDisplay: 7254.0\n",
      "-----------------------------------------\n"
     ]
    }
   ],
   "source": [
    "print(\"Wiht Transportaion\")\n",
    "print(\"Middle Level One List:\")\n",
    "for product in MiddleLevelOneList:\n",
    "      print(f\"{product.value.name}: {get_total_price(air_plane, product.value, 1000, 2)}\")\n",
    "print(\"-----------------------------------------\")\n"
   ]
  },
  {
   "cell_type": "code",
   "execution_count": 23,
   "metadata": {
    "ExecuteTime": {
     "end_time": "2023-05-11T13:18:24.847068Z",
     "start_time": "2023-05-11T13:18:24.785906Z"
    }
   },
   "outputs": [
    {
     "name": "stdout",
     "output_type": "stream",
     "text": [
      "Wiht Transportaion\n",
      "Final List:\n",
      "GPhone1: 22081.0, 22160.0, 22596.0\n",
      "GPhone2: 23945.0, 23997.0, 24329.0\n",
      "GPhone3: 22580.0, 22635.0, 22977.0\n",
      "-----------------------------------------\n"
     ]
    }
   ],
   "source": [
    "print(\"Wiht Transportaion\")\n",
    "print(\"Final List:\")\n",
    "production_count = 2000\n",
    "for product in FinalList:\n",
    "      print(f\"{product.value.name}: {get_total_price(bus, product.value, production_count, 2)}, {get_total_price(ship, product.value, production_count, 2)}, {get_total_price(air_plane, product.value, production_count, 2)}\")\n",
    "print(\"-----------------------------------------\")\n"
   ]
  },
  {
   "cell_type": "code",
   "execution_count": 24,
   "metadata": {
    "ExecuteTime": {
     "end_time": "2023-05-11T13:18:24.847317Z",
     "start_time": "2023-05-11T13:18:24.788886Z"
    },
    "scrolled": true
   },
   "outputs": [
    {
     "name": "stdout",
     "output_type": "stream",
     "text": [
      "Wiht Transportaion\n",
      "Final List:\n",
      "GPhone1: 19920.0, 19961.0, 20158.0\n",
      "3512\n",
      "7400\n",
      "GPhone2: 20020.0, 20041.0, 20146.0\n",
      "3701\n",
      "12210\n",
      "GPhone3: 21236.0, 21270.0, 21454.0\n",
      "3641\n",
      "5180\n",
      "-----------------------------------------\n"
     ]
    }
   ],
   "source": [
    "print(\"Wiht Transportaion\")\n",
    "print(\"Final List:\")\n",
    "production_count = 8000\n",
    "for product in FinalList:\n",
    "    production_count = 37 * product.value.production_rate\n",
    "    print(f\"{product.value.name}: {get_total_price(bus, product.value, production_count, 2)}, {get_total_price(ship, product.value, production_count, 2)}, {get_total_price(air_plane, product.value, production_count, 2)}\")\n",
    "    print(product.value.get_variable_price(production_count) // production_count)  \n",
    "    print(production_count)\n",
    "print(\"-----------------------------------------\")\n"
   ]
  },
  {
   "cell_type": "code",
   "execution_count": 25,
   "metadata": {
    "ExecuteTime": {
     "end_time": "2023-05-11T13:18:24.847441Z",
     "start_time": "2023-05-11T13:18:24.789400Z"
    }
   },
   "outputs": [
    {
     "name": "stdout",
     "output_type": "stream",
     "text": [
      "Wiht Transportaion\n",
      "Middle List Two List:\n",
      "Communication2G: 2121.0, 2140.0, 2299.0\n",
      "351\n",
      "2960\n",
      "MediaNoCamera: 1097.0, 1107.0, 1254.0\n",
      "213\n",
      "2220\n",
      "PhoneBody1: 7566.0, 7631.0, 7987.0\n",
      "1664\n",
      "2590\n",
      "Communication3G: 3485.0, 3506.0, 3657.0\n",
      "590\n",
      "3700\n",
      "MediaSingleCamera: 2404.0, 2423.0, 2536.0\n",
      "408\n",
      "6290\n",
      "PhoneBody2: 7731.0, 7745.0, 7822.0\n",
      "1712\n",
      "11470\n",
      "-----------------------------------------\n"
     ]
    }
   ],
   "source": [
    "print(\"Wiht Transportaion\")\n",
    "print(\"Middle List Two List:\")\n",
    "production_count = 8000\n",
    "for product in MiddleLevelTwoList:\n",
    "    production_count = 37 * product.value.production_rate\n",
    "    print(f\"{product.value.name}: {get_total_price(bus, product.value, production_count, 2)}, {get_total_price(ship, product.value, production_count, 2)}, {get_total_price(air_plane, product.value, production_count, 2)}\")\n",
    "    print(product.value.get_variable_price(production_count) // production_count) \n",
    "    print(production_count)\n",
    "print(\"-----------------------------------------\")\n"
   ]
  },
  {
   "cell_type": "code",
   "execution_count": 26,
   "metadata": {
    "ExecuteTime": {
     "end_time": "2023-05-11T13:18:24.847941Z",
     "start_time": "2023-05-11T13:18:24.824895Z"
    }
   },
   "outputs": [
    {
     "name": "stdout",
     "output_type": "stream",
     "text": [
      "Wiht Transportaion\n",
      "Mean Middle List One List:\n",
      "Modem 2G 3750\n",
      "profit percentage: -0.05362776025236593    \n",
      "total profit: -1.0    \n",
      "cash flow needed: 3.0    \n",
      "    \n",
      "DisplayKeypad 3000\n",
      "profit percentage: -0.2995169082125604    \n",
      "total profit: -2.0    \n",
      "cash flow needed: 6.0    \n",
      "    \n",
      "PhoneBattery 7875\n",
      "profit percentage: -0.2943361188486537    \n",
      "total profit: -3.0    \n",
      "cash flow needed: 8.0    \n",
      "    \n",
      "PhoneKeypad 3000\n",
      "profit percentage: -0.3744090765836748    \n",
      "total profit: -4.0    \n",
      "cash flow needed: 9.0    \n",
      "    \n",
      "Camera 13125\n",
      "profit percentage: -0.47042640990371387    \n",
      "total profit: -9.0    \n",
      "cash flow needed: 19.0    \n",
      "    \n",
      "Modem3G 3375\n",
      "profit percentage: 0.0078125    \n",
      "total profit: 0.0    \n",
      "cash flow needed: 4.0    \n",
      "    \n",
      "PhoneFrame 9000\n",
      "profit percentage: -0.3902439024390244    \n",
      "total profit: -7.0    \n",
      "cash flow needed: 15.0    \n",
      "    \n",
      "TouchDisplay 8625\n",
      "profit percentage: -0.5839197748064743    \n",
      "total profit: -29.0    \n",
      "cash flow needed: 49.0    \n",
      "    \n",
      "-----------------------------------------\n"
     ]
    }
   ],
   "source": [
    "print(\"Wiht Transportaion\")\n",
    "print(\"Mean Middle List One List:\")\n",
    "for product in MiddleLevelOneList:\n",
    "    production_count = int(37.5 * product.value.production_rate)\n",
    "    print(product.value.name, production_count)\n",
    "    print(get_all_data(air_plane, product.value, production_count, 2))\n",
    "print(\"-----------------------------------------\")\n"
   ]
  },
  {
   "cell_type": "code",
   "execution_count": 27,
   "metadata": {
    "ExecuteTime": {
     "end_time": "2023-05-11T13:18:24.848107Z",
     "start_time": "2023-05-11T13:18:24.825185Z"
    }
   },
   "outputs": [
    {
     "name": "stdout",
     "output_type": "stream",
     "text": [
      "Wiht Transportaion\n",
      "Max Middle List One List:\n",
      "Modem 2G 3750\n",
      "profit percentage: 0.07255520504731862    \n",
      "total profit: 0.0    \n",
      "cash flow needed: 3.0    \n",
      "    \n",
      "DisplayKeypad 3000\n",
      "profit percentage: -0.20772946859903382    \n",
      "total profit: -2.0    \n",
      "cash flow needed: 6.0    \n",
      "    \n",
      "PhoneBattery 7875\n",
      "profit percentage: -0.20148560817084493    \n",
      "total profit: -2.0    \n",
      "cash flow needed: 8.0    \n",
      "    \n",
      "PhoneKeypad 3000\n",
      "profit percentage: -0.29404349196344154    \n",
      "total profit: -3.0    \n",
      "cash flow needed: 9.0    \n",
      "    \n",
      "Camera 13125\n",
      "profit percentage: -0.4016506189821183    \n",
      "total profit: -8.0    \n",
      "cash flow needed: 19.0    \n",
      "    \n",
      "Modem3G 3375\n",
      "profit percentage: 0.140625    \n",
      "total profit: 0.0    \n",
      "cash flow needed: 4.0    \n",
      "    \n",
      "PhoneFrame 9000\n",
      "profit percentage: -0.3089430894308943    \n",
      "total profit: -5.0    \n",
      "cash flow needed: 15.0    \n",
      "    \n",
      "TouchDisplay 8625\n",
      "profit percentage: -0.5302603800140746    \n",
      "total profit: -26.0    \n",
      "cash flow needed: 49.0    \n",
      "    \n",
      "-----------------------------------------\n"
     ]
    }
   ],
   "source": [
    "print(\"Wiht Transportaion\")\n",
    "print(\"Max Middle List One List:\")\n",
    "for product in MiddleLevelOneList:\n",
    "    production_count = int(37.5 * product.value.production_rate)\n",
    "    print(product.value.name, production_count)\n",
    "    print(get_all_data_max(air_plane, product.value, production_count, 2))\n",
    "print(\"-----------------------------------------\")\n"
   ]
  },
  {
   "cell_type": "code",
   "execution_count": 28,
   "metadata": {
    "ExecuteTime": {
     "end_time": "2023-05-11T13:18:24.848542Z",
     "start_time": "2023-05-11T13:18:24.825362Z"
    }
   },
   "outputs": [
    {
     "name": "stdout",
     "output_type": "stream",
     "text": [
      "Wiht Transportaion\n",
      "Min Middle List One List:\n",
      "Modem 2G 3750\n",
      "profit percentage: -0.17981072555205047    \n",
      "total profit: -1.0    \n",
      "cash flow needed: 3.0    \n",
      "    \n",
      "DisplayKeypad 3000\n",
      "profit percentage: -0.391304347826087    \n",
      "total profit: -3.0    \n",
      "cash flow needed: 6.0    \n",
      "    \n",
      "PhoneBattery 7875\n",
      "profit percentage: -0.3871866295264624    \n",
      "total profit: -4.0    \n",
      "cash flow needed: 8.0    \n",
      "    \n",
      "PhoneKeypad 3000\n",
      "profit percentage: -0.45477466120390797    \n",
      "total profit: -5.0    \n",
      "cash flow needed: 9.0    \n",
      "    \n",
      "Camera 13125\n",
      "profit percentage: -0.5392022008253095    \n",
      "total profit: -11.0    \n",
      "cash flow needed: 19.0    \n",
      "    \n",
      "Modem3G 3375\n",
      "profit percentage: -0.125    \n",
      "total profit: -1.0    \n",
      "cash flow needed: 4.0    \n",
      "    \n",
      "PhoneFrame 9000\n",
      "profit percentage: -0.4715447154471545    \n",
      "total profit: -8.0    \n",
      "cash flow needed: 15.0    \n",
      "    \n",
      "TouchDisplay 8625\n",
      "profit percentage: -0.6375791695988741    \n",
      "total profit: -32.0    \n",
      "cash flow needed: 49.0    \n",
      "    \n",
      "-----------------------------------------\n"
     ]
    }
   ],
   "source": [
    "print(\"Wiht Transportaion\")\n",
    "print(\"Min Middle List One List:\")\n",
    "for product in MiddleLevelOneList:\n",
    "    production_count = int(37.5 * product.value.production_rate)\n",
    "    print(product.value.name, production_count)\n",
    "    print(get_all_data_min(air_plane, product.value, production_count, 2))\n",
    "print(\"-----------------------------------------\")\n"
   ]
  },
  {
   "cell_type": "code",
   "execution_count": 29,
   "metadata": {
    "ExecuteTime": {
     "end_time": "2023-05-11T13:18:24.848706Z",
     "start_time": "2023-05-11T13:18:24.826621Z"
    }
   },
   "outputs": [
    {
     "name": "stdout",
     "output_type": "stream",
     "text": [
      "Wiht Transportaion\n",
      "Mean Middle List Two List:\n",
      "Communication2G 3000\n",
      "profit percentage: 0.3824884792626728    \n",
      "total profit: 2.0    \n",
      "cash flow needed: 6.0    \n",
      "    \n",
      "MediaNoCamera 2250\n",
      "profit percentage: 0.2539936102236422    \n",
      "total profit: 0.0    \n",
      "cash flow needed: 2.0    \n",
      "    \n",
      "PhoneBody1 2625\n",
      "profit percentage: 0.34418039427491226    \n",
      "total profit: 6.0    \n",
      "cash flow needed: 19.0    \n",
      "    \n",
      "Communication3G 3750\n",
      "profit percentage: 0.18992805755395684    \n",
      "total profit: 2.0    \n",
      "cash flow needed: 13.0    \n",
      "    \n",
      "MediaSingleCamera 6375\n",
      "profit percentage: 0.0683408810209963    \n",
      "total profit: 1.0    \n",
      "cash flow needed: 15.0    \n",
      "    \n",
      "PhoneBody2 11625\n",
      "profit percentage: 0.22101049144119272    \n",
      "total profit: 18.0    \n",
      "cash flow needed: 84.0    \n",
      "    \n",
      "-----------------------------------------\n"
     ]
    }
   ],
   "source": [
    "print(\"Wiht Transportaion\")\n",
    "print(\"Mean Middle List Two List:\")\n",
    "for product in MiddleLevelTwoList:\n",
    "    production_count = int(37.5 * product.value.production_rate)\n",
    "    print(product.value.name, production_count)\n",
    "    print(get_all_data(air_plane, product.value, production_count, 2))\n",
    "print(\"-----------------------------------------\")\n"
   ]
  },
  {
   "cell_type": "code",
   "execution_count": 30,
   "metadata": {
    "ExecuteTime": {
     "end_time": "2023-05-11T13:18:24.849054Z",
     "start_time": "2023-05-11T13:18:24.826777Z"
    }
   },
   "outputs": [
    {
     "name": "stdout",
     "output_type": "stream",
     "text": [
      "Wiht Transportaion\n",
      "Max Middle List Two List:\n",
      "Communication2G 3000\n",
      "profit percentage: 0.3893728222996516    \n",
      "total profit: 2.0    \n",
      "cash flow needed: 6.0    \n",
      "    \n",
      "MediaNoCamera 2250\n",
      "profit percentage: 0.33386581469648563    \n",
      "total profit: 0.0    \n",
      "cash flow needed: 2.0    \n",
      "    \n",
      "PhoneBody1 2625\n",
      "profit percentage: 0.327233989221707    \n",
      "total profit: 6.0    \n",
      "cash flow needed: 20.0    \n",
      "    \n",
      "Communication3G 3750\n",
      "profit percentage: 0.2044894607172187    \n",
      "total profit: 2.0    \n",
      "cash flow needed: 13.0    \n",
      "    \n",
      "MediaSingleCamera 6375\n",
      "profit percentage: 0.08918705603788477    \n",
      "total profit: 1.0    \n",
      "cash flow needed: 16.0    \n",
      "    \n",
      "PhoneBody2 11625\n",
      "profit percentage: 0.20378661890750926    \n",
      "total profit: 18.0    \n",
      "cash flow needed: 90.0    \n",
      "    \n",
      "-----------------------------------------\n"
     ]
    }
   ],
   "source": [
    "print(\"Wiht Transportaion\")\n",
    "print(\"Max Middle List Two List:\")\n",
    "for product in MiddleLevelTwoList:\n",
    "    production_count = int(37.5 * product.value.production_rate)\n",
    "    print(product.value.name, production_count)\n",
    "    print(get_all_data_max(air_plane, product.value, production_count, 2))\n",
    "print(\"-----------------------------------------\")\n"
   ]
  },
  {
   "cell_type": "code",
   "execution_count": 31,
   "metadata": {
    "ExecuteTime": {
     "end_time": "2023-05-11T13:18:24.849193Z",
     "start_time": "2023-05-11T13:18:24.826936Z"
    }
   },
   "outputs": [
    {
     "name": "stdout",
     "output_type": "stream",
     "text": [
      "Wiht Transportaion\n",
      "Min Middle List Two List:\n",
      "Communication2G 3000\n",
      "profit percentage: 0.3747553816046967    \n",
      "total profit: 2.0    \n",
      "cash flow needed: 6.0    \n",
      "    \n",
      "MediaNoCamera 2250\n",
      "profit percentage: 0.17412140575079874    \n",
      "total profit: 0.0    \n",
      "cash flow needed: 2.0    \n",
      "    \n",
      "PhoneBody1 2625\n",
      "profit percentage: 0.3637693883523559    \n",
      "total profit: 6.0    \n",
      "cash flow needed: 17.0    \n",
      "    \n",
      "Communication3G 3750\n",
      "profit percentage: 0.1741504854368932    \n",
      "total profit: 2.0    \n",
      "cash flow needed: 12.0    \n",
      "    \n",
      "MediaSingleCamera 6375\n",
      "profit percentage: 0.04561101549053356    \n",
      "total profit: 0.0    \n",
      "cash flow needed: 14.0    \n",
      "    \n",
      "PhoneBody2 11625\n",
      "profit percentage: 0.24100719424460432    \n",
      "total profit: 18.0    \n",
      "cash flow needed: 77.0    \n",
      "    \n",
      "-----------------------------------------\n"
     ]
    }
   ],
   "source": [
    "print(\"Wiht Transportaion\")\n",
    "print(\"Min Middle List Two List:\")\n",
    "for product in MiddleLevelTwoList:\n",
    "    production_count = int(37.5 * product.value.production_rate)\n",
    "    print(product.value.name, production_count)\n",
    "    print(get_all_data_min(air_plane, product.value, production_count, 2))\n",
    "print(\"-----------------------------------------\")\n"
   ]
  },
  {
   "cell_type": "code",
   "execution_count": 32,
   "metadata": {
    "ExecuteTime": {
     "end_time": "2023-05-11T13:18:24.849758Z",
     "start_time": "2023-05-11T13:18:24.827053Z"
    }
   },
   "outputs": [
    {
     "name": "stdout",
     "output_type": "stream",
     "text": [
      "Wiht Transportaion\n",
      "Mean Final List:\n",
      "GPhone1 500\n",
      "profit percentage: -0.263050153531218    \n",
      "total profit: -5.0    \n",
      "cash flow needed: 15.0    \n",
      "    \n",
      "GPhone2 500\n",
      "profit percentage: -0.4002994562504925    \n",
      "total profit: -8.0    \n",
      "cash flow needed: 19.0    \n",
      "    \n",
      "GPhone3 500\n",
      "profit percentage: -0.1314046466934349    \n",
      "total profit: -2.0    \n",
      "cash flow needed: 14.0    \n",
      "    \n",
      "-----------------------------------------\n"
     ]
    }
   ],
   "source": [
    "print(\"Wiht Transportaion\")\n",
    "print(\"Mean Final List:\")\n",
    "for product in FinalList:\n",
    "#     production_count = int(37.5 * product.value.production_rate)\n",
    "    production_count = 500\n",
    "    print(product.value.name, production_count)\n",
    "    print(get_all_data(air_plane, product.value, production_count, 2))\n",
    "print(\"-----------------------------------------\")\n"
   ]
  },
  {
   "cell_type": "code",
   "execution_count": 33,
   "metadata": {
    "ExecuteTime": {
     "end_time": "2023-05-11T13:18:24.850488Z",
     "start_time": "2023-05-11T13:18:24.827265Z"
    }
   },
   "outputs": [
    {
     "name": "stdout",
     "output_type": "stream",
     "text": [
      "Wiht Transportaion\n",
      "Max Final List:\n",
      "GPhone1 1000\n",
      "profit percentage: -0.01938779458999265    \n",
      "total profit: -1.0    \n",
      "cash flow needed: 25.0    \n",
      "    \n",
      "GPhone2 1000\n",
      "profit percentage: -0.14159715575003418    \n",
      "total profit: -5.0    \n",
      "cash flow needed: 29.0    \n",
      "    \n",
      "GPhone3 1000\n",
      "profit percentage: 0.095976694748445    \n",
      "total profit: 2.0    \n",
      "cash flow needed: 25.0    \n",
      "    \n",
      "-----------------------------------------\n"
     ]
    }
   ],
   "source": [
    "print(\"Wiht Transportaion\")\n",
    "print(\"Max Final List:\")\n",
    "for product in FinalList:\n",
    "    production_count = int(37.5 * product.value.production_rate)\n",
    "    production_count = 1000\n",
    "    print(product.value.name, production_count)\n",
    "    print(get_all_data_max(air_plane, product.value, production_count, 2))\n",
    "print(\"-----------------------------------------\")\n"
   ]
  },
  {
   "cell_type": "code",
   "execution_count": 34,
   "metadata": {
    "ExecuteTime": {
     "end_time": "2023-05-11T13:18:24.853602Z",
     "start_time": "2023-05-11T13:18:24.827686Z"
    }
   },
   "outputs": [
    {
     "name": "stdout",
     "output_type": "stream",
     "text": [
      "Wiht Transportaion\n",
      "Min Final List:\n",
      "GPhone1 7500\n",
      "profit percentage: 0.13937263088501894    \n",
      "total profit: 19.0    \n",
      "cash flow needed: 136.0    \n",
      "    \n",
      "GPhone2 12375\n",
      "profit percentage: 0.12893479096852167    \n",
      "total profit: 29.0    \n",
      "cash flow needed: 225.0    \n",
      "    \n",
      "GPhone3 5250\n",
      "profit percentage: 0.17713931376601902    \n",
      "total profit: 17.0    \n",
      "cash flow needed: 101.0    \n",
      "    \n",
      "-----------------------------------------\n"
     ]
    }
   ],
   "source": [
    "print(\"Wiht Transportaion\")\n",
    "print(\"Min Final List:\")\n",
    "for product in FinalList:\n",
    "    production_count = int(37.5 * product.value.production_rate)\n",
    "    print(product.value.name, production_count)\n",
    "    print(get_all_data_min(air_plane, product.value, production_count, 2))\n",
    "print(\"-----------------------------------------\")\n"
   ]
  },
  {
   "cell_type": "code",
   "execution_count": 35,
   "metadata": {
    "ExecuteTime": {
     "end_time": "2023-05-11T13:18:25.031583Z",
     "start_time": "2023-05-11T13:18:24.829533Z"
    }
   },
   "outputs": [
    {
     "name": "stdout",
     "output_type": "stream",
     "text": [
      "Wiht Transportaion\n",
      "Min Final List:\n",
      "GPhone1 3000\n",
      "(0.2345919610231425, 14.0, 61.0)\n",
      "GPhone2 3000\n",
      "(0.1566098572086596, 10.0, 65.0)\n",
      "GPhone3 3000\n",
      "(0.31868131868131866, 20.0, 63.0)\n",
      "-----------------------------------------\n"
     ]
    }
   ],
   "source": [
    "print(\"Wiht Transportaion\")\n",
    "print(\"Min Final List:\")\n",
    "for product in FinalList:\n",
    "    production_count = int(37.5 * product.value.production_rate)\n",
    "    production_count = 3000   \n",
    "    print(product.value.name, production_count)\n",
    "    print(get_all_data_mean_max(air_plane, product.value, production_count, 2))\n",
    "print(\"-----------------------------------------\")\n"
   ]
  },
  {
   "cell_type": "code",
   "execution_count": 36,
   "metadata": {
    "ExecuteTime": {
     "end_time": "2023-05-11T13:18:25.046473Z",
     "start_time": "2023-05-11T13:18:24.871396Z"
    }
   },
   "outputs": [
    {
     "name": "stdout",
     "output_type": "stream",
     "text": [
      "Wiht Transportaion\n",
      "Max Mean Final List:\n",
      "GPhone1 2000\n",
      "(0.12143742255266418, 5.0, 45.0)\n",
      "GPhone2 2000\n",
      "(0.03210160713551728, 1.0, 48.0)\n",
      "GPhone3 2000\n",
      "(0.2116464290377334, 9.0, 45.0)\n",
      "-----------------------------------------\n"
     ]
    }
   ],
   "source": [
    "print(\"Wiht Transportaion\")\n",
    "print(\"Max Mean Final List:\")\n",
    "for product in FinalList:\n",
    "    production_count = int(37.5 * product.value.production_rate)\n",
    "    production_count = 2000\n",
    "    print(product.value.name, production_count)\n",
    "    print(get_all_data_max_mean(air_plane, product.value, production_count, 2))\n",
    "print(\"-----------------------------------------\")\n"
   ]
  }
 ],
 "metadata": {
  "kernelspec": {
   "display_name": "Python 3 (ipykernel)",
   "language": "python",
   "name": "python3"
  },
  "language_info": {
   "codemirror_mode": {
    "name": "ipython",
    "version": 3
   },
   "file_extension": ".py",
   "mimetype": "text/x-python",
   "name": "python",
   "nbconvert_exporter": "python",
   "pygments_lexer": "ipython3",
   "version": "3.10.4"
  }
 },
 "nbformat": 4,
 "nbformat_minor": 1
}
