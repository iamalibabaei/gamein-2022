{
 "cells": [
  {
   "cell_type": "code",
   "execution_count": 25,
   "metadata": {
    "ExecuteTime": {
     "start_time": "2023-05-17T14:57:53.538472Z",
     "end_time": "2023-05-17T14:57:53.581051Z"
    }
   },
   "outputs": [],
   "source": [
    "from models.transportation import *\n",
    "from models.products.raw import RawMaterialList\n",
    "from models.products.middle_one import MiddleLevelOneList\n",
    "from models.products.middle_two import MiddleLevelTwoList\n",
    "from models.products.final import FinalList\n",
    "from models.building import *\n",
    "from main import *\n",
    "\n",
    "bus = Bus()\n",
    "ship = Ship()\n",
    "air_plane = AirPlane()\n",
    "\n",
    "production = Production()\n",
    "assembly = Assembly()\n",
    "recycle = Recycle()\n",
    "inventory = Inventory()\n"
   ]
  },
  {
   "cell_type": "code",
   "execution_count": 27,
   "metadata": {
    "ExecuteTime": {
     "start_time": "2023-05-17T15:00:21.161678Z",
     "end_time": "2023-05-17T15:00:21.868638Z"
    }
   },
   "outputs": [
    {
     "name": "stdout",
     "output_type": "stream",
     "text": [
      "Requirement already satisfied: tabulate in ./venv/lib/python3.10/site-packages (0.9.0)\r\n",
      "\r\n",
      "\u001B[1m[\u001B[0m\u001B[34;49mnotice\u001B[0m\u001B[1;39;49m]\u001B[0m\u001B[39;49m A new release of pip available: \u001B[0m\u001B[31;49m22.3.1\u001B[0m\u001B[39;49m -> \u001B[0m\u001B[32;49m23.1.2\u001B[0m\r\n",
      "\u001B[1m[\u001B[0m\u001B[34;49mnotice\u001B[0m\u001B[1;39;49m]\u001B[0m\u001B[39;49m To update, run: \u001B[0m\u001B[32;49mpip install --upgrade pip\u001B[0m\r\n",
      "MiddleLevelOneList:\n",
      "-------------  -------------------  ----------------  --------------------  -----------------  -------------------  ----------------\n",
      "name           estimated min price  buying min price  estimated mean price  buying mean price  estimated max price  buying max price\n",
      "Modem 2G       690                  780               690.0                 900                690                  1020\n",
      "DisplayKeypad  1590                 1260              1590.0                1450               1590                 1640\n",
      "PhoneBattery   816                  660               816.0                 760                816                  860\n",
      "PhoneKeypad    2460                 1730              2460.0                1985               2460                 2240\n",
      "Camera         1200                 670               1200.0                770                1200                 870\n",
      "Modem3G        950                  1120              950.0                 1290               950                  1460\n",
      "PhoneFrame     1380                 910               1380.0                1050               1380                 1190\n",
      "TouchDisplay   4800                 2060              4800.0                2365               4800                 2670\n",
      "-------------  -------------------  ----------------  --------------------  -----------------  -------------------  ----------------\n",
      "MiddleLevelTwoList:\n",
      "-----------------  -------------------  ----------------  -----------------  --------------------  -------------------  ----------------\n",
      "name               estimated min price  buying min price  buying mean price  estimated mean price  estimated max price  buying max price\n",
      "Communication2G    1405                 2810              1525.0             3000                  1645                 3190\n",
      "MediaNoCamera      800                  1470              800.0              1570                  800                  1670\n",
      "PhoneBody1         4425                 9320              4970.0             9955                  5515                 10590\n",
      "Communication3G    2370                 3870              2540.0             4135                  2710                 4400\n",
      "MediaSingleCamera  1670                 2430              1770.0             2595                  1870                 2760\n",
      "PhoneBody2         4555                 8280              5100.0             8845                  5645                 9410\n",
      "-----------------  -------------------  ----------------  -----------------  --------------------  -------------------  ----------------\n",
      "Final:\n",
      "-------  -------------------  ----------------  --------------------  -----------------  -------------------  ----------------\n",
      "name     estimated min price  buying min price  estimated mean price  buying mean price  estimated max price  buying max price\n",
      "GPhone1  13600                20740             14525.0               23040              15450                25340\n",
      "GPhone2  13520                20550             14440.0               22830              15360                25110\n",
      "GPhone3  14580                22780             15575.0               25310              16570                27840\n",
      "-------  -------------------  ----------------  --------------------  -----------------  -------------------  ----------------\n"
     ]
    }
   ],
   "source": [
    "!pip install tabulate\n",
    "\n",
    "from tabulate import tabulate\n",
    "\n",
    "print(\"MiddleLevelOneList:\")\n",
    "data = [\n",
    "    [\n",
    "        \"name\",\n",
    "        \"estimated min price\",\n",
    "        \"buying min price\",\n",
    "        \"estimated mean price\",\n",
    "        \"buying mean price\",\n",
    "        \"estimated max price\",\n",
    "        \"buying max price\",\n",
    "    ]\n",
    "]\n",
    "for product in MiddleLevelOneList:\n",
    "    product = product.value\n",
    "    data.append([\n",
    "        product.name,\n",
    "        product.get_min_price(),\n",
    "        product.min_price,\n",
    "        product.get_mean_price(),\n",
    "        (product.min_price + product.max_price) // 2,\n",
    "        product.get_max_price(),\n",
    "        product.max_price,\n",
    "    ])\n",
    "print(tabulate(data))\n",
    "\n",
    "print(\"MiddleLevelTwoList:\")\n",
    "data = [\n",
    "    [\n",
    "        \"name\",\n",
    "        \"estimated min price\",\n",
    "        \"buying min price\",\n",
    "        \"buying mean price\",\n",
    "        \"estimated mean price\",\n",
    "        \"estimated max price\",\n",
    "        \"buying max price\",\n",
    "    ]\n",
    "]\n",
    "for product in MiddleLevelTwoList:\n",
    "    product = product.value\n",
    "    data.append([\n",
    "        product.name,\n",
    "        product.get_min_price(),\n",
    "        product.min_price,\n",
    "        product.get_mean_price(),\n",
    "        (product.min_price + product.max_price) // 2,\n",
    "        product.get_max_price(),\n",
    "        product.max_price,\n",
    "    ])\n",
    "print(tabulate(data))\n",
    "\n",
    "\n",
    "print(\"Final:\")\n",
    "data = [\n",
    "    [\n",
    "        \"name\",\n",
    "        \"estimated min price\",\n",
    "        \"buying min price\",\n",
    "        \"estimated mean price\",\n",
    "        \"buying mean price\",\n",
    "        \"estimated max price\",\n",
    "        \"buying max price\",\n",
    "    ]\n",
    "]\n",
    "for product in FinalList:\n",
    "    product = product.value\n",
    "    data.append([\n",
    "        product.name,\n",
    "        product.get_min_price(),\n",
    "        product.min_price,\n",
    "        product.get_mean_price(),\n",
    "        (product.min_price + product.max_price) // 2,\n",
    "        product.get_max_price(),\n",
    "        product.max_price,\n",
    "    ])\n",
    "print(tabulate(data))\n"
   ]
  },
  {
   "cell_type": "code",
   "execution_count": null,
   "outputs": [],
   "source": [
    "print(\"With Transportation\")\n"
   ],
   "metadata": {
    "collapsed": false
   }
  }
 ],
 "metadata": {
  "kernelspec": {
   "display_name": "Python 3 (ipykernel)",
   "language": "python",
   "name": "python3"
  },
  "language_info": {
   "codemirror_mode": {
    "name": "ipython",
    "version": 3
   },
   "file_extension": ".py",
   "mimetype": "text/x-python",
   "name": "python",
   "nbconvert_exporter": "python",
   "pygments_lexer": "ipython3",
   "version": "3.10.4"
  }
 },
 "nbformat": 4,
 "nbformat_minor": 1
}
