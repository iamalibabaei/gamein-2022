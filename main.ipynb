{
 "cells": [
  {
   "cell_type": "code",
   "execution_count": 1,
   "metadata": {
    "ExecuteTime": {
     "start_time": "2023-05-11T13:18:24.745001Z",
     "end_time": "2023-05-11T13:18:24.833942Z"
    }
   },
   "outputs": [
    {
     "name": "stdout",
     "output_type": "stream",
     "text": [
      "MiddleLevelOneList\n",
      "Modem 2G 690\n",
      "DisplayKeypad 1590\n",
      "PhoneBattery 816\n",
      "PhoneKeypad 2460\n",
      "Camera 1200\n",
      "Modem3G 950\n",
      "PhoneFrame 1380\n",
      "TouchDisplay 4800\n",
      "MiddleLevelTwoList\n",
      "Communication2G 3825\n",
      "MediaNoCamera 800\n",
      "PhoneBody1 16175\n",
      "Communication3G 5550\n",
      "MediaSingleCamera 4300\n",
      "PhoneBody2 17325\n",
      "Final\n",
      "GPhone1 54100\n",
      "GPhone2 57400\n",
      "GPhone3 61500\n"
     ]
    }
   ],
   "source": [
    "from models.transportation import *\n",
    "from models.products.raw import RawMaterialList\n",
    "from models.products.middle_one import MiddleLevelOneList\n",
    "from models.products.middle_two import MiddleLevelTwoList\n",
    "from models.products.final import FinalList\n",
    "from models.building import *\n",
    "from main import *\n",
    "\n",
    "bus = Buss()\n",
    "ship = Ship()\n",
    "air_plane = AirPlane()\n",
    "\n",
    "production = Production()\n",
    "assembly = Assembly()\n",
    "recycle = Recycle()\n",
    "inventory = Inventory()\n"
   ]
  },
  {
   "cell_type": "code",
   "execution_count": 2,
   "metadata": {
    "ExecuteTime": {
     "start_time": "2023-05-11T13:18:24.785371Z",
     "end_time": "2023-05-11T13:18:24.846020Z"
    }
   },
   "outputs": [
    {
     "name": "stdout",
     "output_type": "stream",
     "text": [
      "Max Price\n",
      "MiddleLevelOneList:\n",
      "Modem 2G: 690\n",
      "DisplayKeypad: 1590\n",
      "PhoneBattery: 816\n",
      "PhoneKeypad: 2460\n",
      "Camera: 1200\n",
      "Modem3G: 950\n",
      "PhoneFrame: 1380\n",
      "TouchDisplay: 4800\n",
      "-----------------------------------------\n",
      "MiddleLevelTwoList:\n",
      "Communication2G: 3825\n",
      "MediaNoCamera: 800\n",
      "PhoneBody1: 16175\n",
      "Communication3G: 5550\n",
      "MediaSingleCamera: 4300\n",
      "PhoneBody2: 17325\n",
      "-----------------------------------------\n",
      "Final:\n",
      "GPhone1: 54100\n",
      "GPhone2: 57400\n",
      "GPhone3: 61500\n",
      "-----------------------------------------\n"
     ]
    }
   ],
   "source": [
    "print(\"Max Price\")\n",
    "print(\"MiddleLevelOneList:\")\n",
    "for product in MiddleLevelOneList:\n",
    "      print(f\"{product.value.name}: {product.value.get_max_price()}\")\n",
    "print(\"-----------------------------------------\")\n",
    "\n",
    "print(\"MiddleLevelTwoList:\")\n",
    "for product in MiddleLevelTwoList:\n",
    "      print(f\"{product.value.name}: {product.value.get_max_price()}\")\n",
    "print(\"-----------------------------------------\")\n",
    "\n",
    "print(\"Final:\")\n",
    "for product in FinalList:\n",
    "    print(f\"{product.value.name}: {product.value.get_max_price()}\")\n",
    "print(\"-----------------------------------------\")\n",
    "    "
   ]
  },
  {
   "cell_type": "code",
   "execution_count": 3,
   "metadata": {
    "ExecuteTime": {
     "start_time": "2023-05-11T13:18:24.785562Z",
     "end_time": "2023-05-11T13:18:24.846485Z"
    }
   },
   "outputs": [
    {
     "name": "stdout",
     "output_type": "stream",
     "text": [
      "Min Price\n",
      "MiddleLevelOneList:\n",
      "Modem 2G: 690\n",
      "DisplayKeypad: 1590\n",
      "PhoneBattery: 816\n",
      "PhoneKeypad: 2460\n",
      "Camera: 1200\n",
      "Modem3G: 950\n",
      "PhoneFrame: 1380\n",
      "TouchDisplay: 4800\n",
      "-----------------------------------------\n",
      "MiddleLevelTwoList:\n",
      "Communication2G: 2325\n",
      "MediaNoCamera: 800\n",
      "PhoneBody1: 10375\n",
      "Communication3G: 3550\n",
      "MediaSingleCamera: 3200\n",
      "PhoneBody2: 13625\n",
      "-----------------------------------------\n",
      "Final:\n",
      "GPhone1: 32700\n",
      "GPhone2: 39200\n",
      "GPhone3: 41800\n",
      "-----------------------------------------\n"
     ]
    }
   ],
   "source": [
    "print(\"Min Price\")\n",
    "print(\"MiddleLevelOneList:\")\n",
    "for product in MiddleLevelOneList:\n",
    "      print(f\"{product.value.name}: {product.value.get_min_price()}\")\n",
    "print(\"-----------------------------------------\")\n",
    "\n",
    "print(\"MiddleLevelTwoList:\")\n",
    "for product in MiddleLevelTwoList:\n",
    "      print(f\"{product.value.name}: {product.value.get_min_price()}\")\n",
    "print(\"-----------------------------------------\")\n",
    "\n",
    "print(\"Final:\")\n",
    "for product in FinalList:\n",
    "    print(f\"{product.value.name}: {product.value.get_min_price()}\")\n",
    "print(\"-----------------------------------------\")\n",
    "    "
   ]
  },
  {
   "cell_type": "code",
   "execution_count": 4,
   "metadata": {
    "ExecuteTime": {
     "start_time": "2023-05-11T13:18:24.785735Z",
     "end_time": "2023-05-11T13:18:24.846732Z"
    }
   },
   "outputs": [
    {
     "name": "stdout",
     "output_type": "stream",
     "text": [
      "Wiht Transportaion\n",
      "Middle Level One List:\n",
      "Modem 2G: 1594.0\n",
      "DisplayKeypad: 3025.0\n",
      "PhoneBattery: 2104.0\n",
      "PhoneKeypad: 4502.0\n",
      "Camera: 2850.0\n",
      "Modem3G: 2018.0\n",
      "PhoneFrame: 3579.0\n",
      "TouchDisplay: 10419.0\n",
      "-----------------------------------------\n"
     ]
    }
   ],
   "source": [
    "print(\"Wiht Transportaion\")\n",
    "print(\"Middle Level One List:\")\n",
    "for product in MiddleLevelOneList:\n",
    "      print(f\"{product.value.name}: {get_total_price(air_plane, product.value, 1000, 2)}\")\n",
    "print(\"-----------------------------------------\")\n"
   ]
  },
  {
   "cell_type": "code",
   "execution_count": 5,
   "metadata": {
    "ExecuteTime": {
     "start_time": "2023-05-11T13:18:24.785906Z",
     "end_time": "2023-05-11T13:18:24.847068Z"
    }
   },
   "outputs": [
    {
     "name": "stdout",
     "output_type": "stream",
     "text": [
      "Wiht Transportaion\n",
      "Final List:\n",
      "GPhone1: 71785.0, 71864.0, 72300.0\n",
      "GPhone2: 80362.0, 80414.0, 80746.0\n",
      "GPhone3: 80752.0, 80808.0, 81150.0\n",
      "-----------------------------------------\n"
     ]
    }
   ],
   "source": [
    "print(\"Wiht Transportaion\")\n",
    "print(\"Final List:\")\n",
    "production_count = 2000\n",
    "for product in FinalList:\n",
    "      print(f\"{product.value.name}: {get_total_price(bus, product.value, production_count, 2)}, {get_total_price(ship, product.value, production_count, 2)}, {get_total_price(air_plane, product.value, production_count, 2)}\")\n",
    "print(\"-----------------------------------------\")\n"
   ]
  },
  {
   "cell_type": "code",
   "execution_count": 6,
   "metadata": {
    "scrolled": true,
    "ExecuteTime": {
     "start_time": "2023-05-11T13:18:24.788886Z",
     "end_time": "2023-05-11T13:18:24.847317Z"
    }
   },
   "outputs": [
    {
     "name": "stdout",
     "output_type": "stream",
     "text": [
      "Wiht Transportaion\n",
      "Final List:\n",
      "GPhone1: 67172.0, 67213.0, 67409.0\n",
      "9863\n",
      "7400\n",
      "GPhone2: 72455.0, 72477.0, 72588.0\n",
      "11598\n",
      "11100\n",
      "GPhone3: 77099.0, 77135.0, 77328.0\n",
      "11913\n",
      "4810\n",
      "-----------------------------------------\n"
     ]
    }
   ],
   "source": [
    "print(\"Wiht Transportaion\")\n",
    "print(\"Final List:\")\n",
    "production_count = 8000\n",
    "for product in FinalList:\n",
    "    production_count = 37 * product.value.production_rate\n",
    "    print(f\"{product.value.name}: {get_total_price(bus, product.value, production_count, 2)}, {get_total_price(ship, product.value, production_count, 2)}, {get_total_price(air_plane, product.value, production_count, 2)}\")\n",
    "    print(product.value.get_variable_price(production_count) // production_count)  \n",
    "    print(production_count)\n",
    "print(\"-----------------------------------------\")\n"
   ]
  },
  {
   "cell_type": "code",
   "execution_count": 7,
   "metadata": {
    "ExecuteTime": {
     "start_time": "2023-05-11T13:18:24.789400Z",
     "end_time": "2023-05-11T13:18:24.847441Z"
    }
   },
   "outputs": [
    {
     "name": "stdout",
     "output_type": "stream",
     "text": [
      "Wiht Transportaion\n",
      "Middle List Two List:\n",
      "Communication2G: 5111.0, 5131.0, 5307.0\n",
      "1015\n",
      "2590\n",
      "MediaNoCamera: 2196.0, 2206.0, 2353.0\n",
      "1260\n",
      "2220\n",
      "PhoneBody1: 22249.0, 22314.0, 22670.0\n",
      "4987\n",
      "2590\n",
      "Communication3G: 7605.0, 7627.0, 7789.0\n",
      "1672\n",
      "3330\n",
      "MediaSingleCamera: 6061.0, 6081.0, 6205.0\n",
      "1460\n",
      "5550\n",
      "PhoneBody2: 24378.0, 24393.0, 24473.0\n",
      "5886\n",
      "10730\n",
      "-----------------------------------------\n"
     ]
    }
   ],
   "source": [
    "print(\"Wiht Transportaion\")\n",
    "print(\"Middle List Two List:\")\n",
    "production_count = 8000\n",
    "for product in MiddleLevelTwoList:\n",
    "    production_count = 37 * product.value.production_rate\n",
    "    print(f\"{product.value.name}: {get_total_price(bus, product.value, production_count, 2)}, {get_total_price(ship, product.value, production_count, 2)}, {get_total_price(air_plane, product.value, production_count, 2)}\")\n",
    "    print(product.value.get_variable_price(production_count) // production_count) \n",
    "    print(production_count)\n",
    "print(\"-----------------------------------------\")\n"
   ]
  },
  {
   "cell_type": "code",
   "execution_count": 8,
   "metadata": {
    "ExecuteTime": {
     "start_time": "2023-05-11T13:18:24.824895Z",
     "end_time": "2023-05-11T13:18:24.847941Z"
    }
   },
   "outputs": [
    {
     "name": "stdout",
     "output_type": "stream",
     "text": [
      "Wiht Transportaion\n",
      "Mean Middle List One List:\n",
      "Modem 2G 3750\n",
      "profit percentage: 1.1157167530224525    \n",
      "total profit: 4.0    \n",
      "cash flow needed: 4.0    \n",
      "    \n",
      "DisplayKeypad 3000\n",
      "profit percentage: 0.7679777512912197    \n",
      "total profit: 5.0    \n",
      "cash flow needed: 7.0    \n",
      "    \n",
      "PhoneBattery 9000\n",
      "profit percentage: 0.602814698983581    \n",
      "total profit: 6.0    \n",
      "cash flow needed: 11.0    \n",
      "    \n",
      "PhoneKeypad 3000\n",
      "profit percentage: 0.563721657544957    \n",
      "total profit: 6.0    \n",
      "cash flow needed: 11.0    \n",
      "    \n",
      "Camera 9375\n",
      "profit percentage: 0.528627015008338    \n",
      "total profit: 8.0    \n",
      "cash flow needed: 16.0    \n",
      "    \n",
      "Modem3G 3750\n",
      "profit percentage: 1.1456436931079323    \n",
      "total profit: 6.0    \n",
      "cash flow needed: 5.0    \n",
      "    \n",
      "PhoneFrame 11625\n",
      "profit percentage: 0.4907714150496924    \n",
      "total profit: 12.0    \n",
      "cash flow needed: 24.0    \n",
      "    \n",
      "TouchDisplay 10875\n",
      "profit percentage: 0.3322884012539185    \n",
      "total profit: 25.0    \n",
      "cash flow needed: 76.0    \n",
      "    \n",
      "-----------------------------------------\n"
     ]
    }
   ],
   "source": [
    "print(\"Wiht Transportaion\")\n",
    "print(\"Mean Middle List One List:\")\n",
    "for product in MiddleLevelOneList:\n",
    "    production_count = int(37.5 * product.value.production_rate)\n",
    "    print(product.value.name, production_count)\n",
    "    print(get_all_data(air_plane, product.value, production_count, 2))\n",
    "print(\"-----------------------------------------\")\n"
   ]
  },
  {
   "cell_type": "code",
   "execution_count": 9,
   "metadata": {
    "ExecuteTime": {
     "start_time": "2023-05-11T13:18:24.825185Z",
     "end_time": "2023-05-11T13:18:24.848107Z"
    }
   },
   "outputs": [
    {
     "name": "stdout",
     "output_type": "stream",
     "text": [
      "Wiht Transportaion\n",
      "Max Middle List One List:\n",
      "Modem 2G 3750\n",
      "profit percentage: 1.7633851468048358    \n",
      "total profit: 7.0    \n",
      "cash flow needed: 4.0    \n",
      "    \n",
      "DisplayKeypad 3000\n",
      "profit percentage: 1.2248708780294    \n",
      "total profit: 9.0    \n",
      "cash flow needed: 7.0    \n",
      "    \n",
      "PhoneBattery 9000\n",
      "profit percentage: 0.9546520719311963    \n",
      "total profit: 10.0    \n",
      "cash flow needed: 11.0    \n",
      "    \n",
      "PhoneKeypad 3000\n",
      "profit percentage: 0.9025280166796977    \n",
      "total profit: 10.0    \n",
      "cash flow needed: 11.0    \n",
      "    \n",
      "Camera 9375\n",
      "profit percentage: 0.8343524180100056    \n",
      "total profit: 14.0    \n",
      "cash flow needed: 16.0    \n",
      "    \n",
      "Modem3G 3750\n",
      "profit percentage: 1.7958387516254877    \n",
      "total profit: 10.0    \n",
      "cash flow needed: 5.0    \n",
      "    \n",
      "PhoneFrame 11625\n",
      "profit percentage: 0.7510648367250355    \n",
      "total profit: 18.0    \n",
      "cash flow needed: 24.0    \n",
      "    \n",
      "TouchDisplay 10875\n",
      "profit percentage: 0.4534055286406384    \n",
      "total profit: 34.0    \n",
      "cash flow needed: 76.0    \n",
      "    \n",
      "-----------------------------------------\n"
     ]
    }
   ],
   "source": [
    "print(\"Wiht Transportaion\")\n",
    "print(\"Max Middle List One List:\")\n",
    "for product in MiddleLevelOneList:\n",
    "    production_count = int(37.5 * product.value.production_rate)\n",
    "    print(product.value.name, production_count)\n",
    "    print(get_all_data_max(air_plane, product.value, production_count, 2))\n",
    "print(\"-----------------------------------------\")\n"
   ]
  },
  {
   "cell_type": "code",
   "execution_count": 10,
   "metadata": {
    "ExecuteTime": {
     "start_time": "2023-05-11T13:18:24.825362Z",
     "end_time": "2023-05-11T13:18:24.848542Z"
    }
   },
   "outputs": [
    {
     "name": "stdout",
     "output_type": "stream",
     "text": [
      "Wiht Transportaion\n",
      "Min Middle List One List:\n",
      "Modem 2G 3750\n",
      "profit percentage: 0.4680483592400691    \n",
      "total profit: 2.0    \n",
      "cash flow needed: 4.0    \n",
      "    \n",
      "DisplayKeypad 3000\n",
      "profit percentage: 0.3110846245530393    \n",
      "total profit: 2.0    \n",
      "cash flow needed: 7.0    \n",
      "    \n",
      "PhoneBattery 9000\n",
      "profit percentage: 0.2509773260359656    \n",
      "total profit: 2.0    \n",
      "cash flow needed: 11.0    \n",
      "    \n",
      "PhoneKeypad 3000\n",
      "profit percentage: 0.22491529841021632    \n",
      "total profit: 2.0    \n",
      "cash flow needed: 11.0    \n",
      "    \n",
      "Camera 9375\n",
      "profit percentage: 0.22290161200667039    \n",
      "total profit: 3.0    \n",
      "cash flow needed: 16.0    \n",
      "    \n",
      "Modem3G 3750\n",
      "profit percentage: 0.49544863459037713    \n",
      "total profit: 2.0    \n",
      "cash flow needed: 5.0    \n",
      "    \n",
      "PhoneFrame 11625\n",
      "profit percentage: 0.23047799337434927    \n",
      "total profit: 5.0    \n",
      "cash flow needed: 24.0    \n",
      "    \n",
      "TouchDisplay 10875\n",
      "profit percentage: 0.21117127386719864    \n",
      "total profit: 16.0    \n",
      "cash flow needed: 76.0    \n",
      "    \n",
      "-----------------------------------------\n"
     ]
    }
   ],
   "source": [
    "print(\"Wiht Transportaion\")\n",
    "print(\"Min Middle List One List:\")\n",
    "for product in MiddleLevelOneList:\n",
    "    production_count = int(37.5 * product.value.production_rate)\n",
    "    print(product.value.name, production_count)\n",
    "    print(get_all_data_min(air_plane, product.value, production_count, 2))\n",
    "print(\"-----------------------------------------\")\n"
   ]
  },
  {
   "cell_type": "code",
   "execution_count": 11,
   "metadata": {
    "ExecuteTime": {
     "start_time": "2023-05-11T13:18:24.826621Z",
     "end_time": "2023-05-11T13:18:24.848706Z"
    }
   },
   "outputs": [
    {
     "name": "stdout",
     "output_type": "stream",
     "text": [
      "Wiht Transportaion\n",
      "Mean Middle List Two List:\n",
      "Communication2G 2625\n",
      "profit percentage: 0.9162605228178998    \n",
      "total profit: 10.0    \n",
      "cash flow needed: 11.0    \n",
      "    \n",
      "MediaNoCamera 2250\n",
      "profit percentage: 1.4946695095948828    \n",
      "total profit: 7.0    \n",
      "cash flow needed: 5.0    \n",
      "    \n",
      "PhoneBody1 2625\n",
      "profit percentage: 0.4738130450303432    \n",
      "total profit: 24.0    \n",
      "cash flow needed: 51.0    \n",
      "    \n",
      "Communication3G 3375\n",
      "profit percentage: 0.7822664488341007    \n",
      "total profit: 17.0    \n",
      "cash flow needed: 22.0    \n",
      "    \n",
      "MediaSingleCamera 5625\n",
      "profit percentage: 0.6272452427529789    \n",
      "total profit: 19.0    \n",
      "cash flow needed: 31.0    \n",
      "    \n",
      "PhoneBody2 10875\n",
      "profit percentage: 0.3545922899271629    \n",
      "total profit: 86.0    \n",
      "cash flow needed: 244.0    \n",
      "    \n",
      "-----------------------------------------\n"
     ]
    }
   ],
   "source": [
    "print(\"Wiht Transportaion\")\n",
    "print(\"Mean Middle List Two List:\")\n",
    "for product in MiddleLevelTwoList:\n",
    "    production_count = int(37.5 * product.value.production_rate)\n",
    "    print(product.value.name, production_count)\n",
    "    print(get_all_data(air_plane, product.value, production_count, 2))\n",
    "print(\"-----------------------------------------\")\n"
   ]
  },
  {
   "cell_type": "code",
   "execution_count": 12,
   "metadata": {
    "ExecuteTime": {
     "start_time": "2023-05-11T13:18:24.826777Z",
     "end_time": "2023-05-11T13:18:24.849054Z"
    }
   },
   "outputs": [
    {
     "name": "stdout",
     "output_type": "stream",
     "text": [
      "Wiht Transportaion\n",
      "Max Middle List Two List:\n",
      "Communication2G 2625\n",
      "profit percentage: 1.131271218408148    \n",
      "total profit: 15.0    \n",
      "cash flow needed: 13.0    \n",
      "    \n",
      "MediaNoCamera 2250\n",
      "profit percentage: 2.49680170575693    \n",
      "total profit: 13.0    \n",
      "cash flow needed: 5.0    \n",
      "    \n",
      "PhoneBody1 2625\n",
      "profit percentage: 0.5273240928754304    \n",
      "total profit: 31.0    \n",
      "cash flow needed: 59.0    \n",
      "    \n",
      "Communication3G 3375\n",
      "profit percentage: 0.978671463445972    \n",
      "total profit: 25.0    \n",
      "cash flow needed: 26.0    \n",
      "    \n",
      "MediaSingleCamera 5625\n",
      "profit percentage: 0.8384131591678762    \n",
      "total profit: 29.0    \n",
      "cash flow needed: 34.0    \n",
      "    \n",
      "PhoneBody2 10875\n",
      "profit percentage: 0.41870068277525657    \n",
      "total profit: 111.0    \n",
      "cash flow needed: 265.0    \n",
      "    \n",
      "-----------------------------------------\n"
     ]
    }
   ],
   "source": [
    "print(\"Wiht Transportaion\")\n",
    "print(\"Max Middle List Two List:\")\n",
    "for product in MiddleLevelTwoList:\n",
    "    production_count = int(37.5 * product.value.production_rate)\n",
    "    print(product.value.name, production_count)\n",
    "    print(get_all_data_max(air_plane, product.value, production_count, 2))\n",
    "print(\"-----------------------------------------\")\n"
   ]
  },
  {
   "cell_type": "code",
   "execution_count": 13,
   "metadata": {
    "ExecuteTime": {
     "start_time": "2023-05-11T13:18:24.826936Z",
     "end_time": "2023-05-11T13:18:24.849193Z"
    }
   },
   "outputs": [
    {
     "name": "stdout",
     "output_type": "stream",
     "text": [
      "Wiht Transportaion\n",
      "Min Middle List Two List:\n",
      "Communication2G 2625\n",
      "profit percentage: 0.6098738932116984    \n",
      "total profit: 5.0    \n",
      "cash flow needed: 9.0    \n",
      "    \n",
      "MediaNoCamera 2250\n",
      "profit percentage: 0.4925373134328358    \n",
      "total profit: 2.0    \n",
      "cash flow needed: 5.0    \n",
      "    \n",
      "PhoneBody1 2625\n",
      "profit percentage: 0.4006278676648153    \n",
      "total profit: 17.0    \n",
      "cash flow needed: 43.0    \n",
      "    \n",
      "Communication3G 3375\n",
      "profit percentage: 0.5132852366707725    \n",
      "total profit: 9.0    \n",
      "cash flow needed: 19.0    \n",
      "    \n",
      "MediaSingleCamera 5625\n",
      "profit percentage: 0.36741973840665876    \n",
      "total profit: 10.0    \n",
      "cash flow needed: 28.0    \n",
      "    \n",
      "PhoneBody2 10875\n",
      "profit percentage: 0.2783124331680762    \n",
      "total profit: 62.0    \n",
      "cash flow needed: 223.0    \n",
      "    \n",
      "-----------------------------------------\n"
     ]
    }
   ],
   "source": [
    "print(\"Wiht Transportaion\")\n",
    "print(\"Min Middle List Two List:\")\n",
    "for product in MiddleLevelTwoList:\n",
    "    production_count = int(37.5 * product.value.production_rate)\n",
    "    print(product.value.name, production_count)\n",
    "    print(get_all_data_min(air_plane, product.value, production_count, 2))\n",
    "print(\"-----------------------------------------\")\n"
   ]
  },
  {
   "cell_type": "code",
   "execution_count": 14,
   "metadata": {
    "ExecuteTime": {
     "start_time": "2023-05-11T13:18:24.827053Z",
     "end_time": "2023-05-11T13:18:24.849758Z"
    }
   },
   "outputs": [
    {
     "name": "stdout",
     "output_type": "stream",
     "text": [
      "Wiht Transportaion\n",
      "Mean Final List:\n",
      "GPhone1 500\n",
      "profit percentage: -0.07164430360944694    \n",
      "total profit: -3.0    \n",
      "cash flow needed: 40.0    \n",
      "    \n",
      "GPhone2 500\n",
      "profit percentage: -0.16923076923076924    \n",
      "total profit: -9.0    \n",
      "cash flow needed: 50.0    \n",
      "    \n",
      "GPhone3 500\n",
      "profit percentage: 0.03209356465827837    \n",
      "total profit: 1.0    \n",
      "cash flow needed: 45.0    \n",
      "    \n",
      "-----------------------------------------\n"
     ]
    }
   ],
   "source": [
    "print(\"Wiht Transportaion\")\n",
    "print(\"Mean Final List:\")\n",
    "for product in FinalList:\n",
    "#     production_count = int(37.5 * product.value.production_rate)\n",
    "    production_count = 500\n",
    "    print(product.value.name, production_count)\n",
    "    print(get_all_data(air_plane, product.value, production_count, 2))\n",
    "print(\"-----------------------------------------\")\n"
   ]
  },
  {
   "cell_type": "code",
   "execution_count": 15,
   "metadata": {
    "ExecuteTime": {
     "start_time": "2023-05-11T13:18:24.827265Z",
     "end_time": "2023-05-11T13:18:24.850488Z"
    }
   },
   "outputs": [
    {
     "name": "stdout",
     "output_type": "stream",
     "text": [
      "Wiht Transportaion\n",
      "Max Final List:\n",
      "GPhone1 1000\n",
      "profit percentage: 0.1215877119610676    \n",
      "total profit: 9.0    \n",
      "cash flow needed: 78.0    \n",
      "    \n",
      "GPhone2 1000\n",
      "profit percentage: 0.08806003089825645    \n",
      "total profit: 7.0    \n",
      "cash flow needed: 90.0    \n",
      "    \n",
      "GPhone3 1000\n",
      "profit percentage: 0.2665738606540542    \n",
      "total profit: 23.0    \n",
      "cash flow needed: 87.0    \n",
      "    \n",
      "-----------------------------------------\n"
     ]
    }
   ],
   "source": [
    "print(\"Wiht Transportaion\")\n",
    "print(\"Max Final List:\")\n",
    "for product in FinalList:\n",
    "    production_count = int(37.5 * product.value.production_rate)\n",
    "    production_count = 1000\n",
    "    print(product.value.name, production_count)\n",
    "    print(get_all_data_max(air_plane, product.value, production_count, 2))\n",
    "print(\"-----------------------------------------\")\n"
   ]
  },
  {
   "cell_type": "code",
   "execution_count": 16,
   "metadata": {
    "ExecuteTime": {
     "start_time": "2023-05-11T13:18:24.827686Z",
     "end_time": "2023-05-11T13:18:24.853602Z"
    }
   },
   "outputs": [
    {
     "name": "stdout",
     "output_type": "stream",
     "text": [
      "Wiht Transportaion\n",
      "Min Final List:\n",
      "GPhone1 7500\n",
      "profit percentage: 0.36928351961526473    \n",
      "total profit: 124.0    \n",
      "cash flow needed: 336.0    \n",
      "    \n",
      "GPhone2 11250\n",
      "profit percentage: 0.28708796348262056    \n",
      "total profit: 172.0    \n",
      "cash flow needed: 601.0    \n",
      "    \n",
      "GPhone3 4875\n",
      "profit percentage: 0.3284810797441967    \n",
      "total profit: 90.0    \n",
      "cash flow needed: 275.0    \n",
      "    \n",
      "-----------------------------------------\n"
     ]
    }
   ],
   "source": [
    "print(\"Wiht Transportaion\")\n",
    "print(\"Min Final List:\")\n",
    "for product in FinalList:\n",
    "    production_count = int(37.5 * product.value.production_rate)\n",
    "    print(product.value.name, production_count)\n",
    "    print(get_all_data_min(air_plane, product.value, production_count, 2))\n",
    "print(\"-----------------------------------------\")\n"
   ]
  },
  {
   "cell_type": "code",
   "execution_count": 17,
   "metadata": {
    "ExecuteTime": {
     "start_time": "2023-05-11T13:18:24.829533Z",
     "end_time": "2023-05-11T13:18:25.031583Z"
    }
   },
   "outputs": [
    {
     "name": "stdout",
     "output_type": "stream",
     "text": [
      "Wiht Transportaion\n",
      "Min Final List:\n",
      "GPhone1 3000\n",
      "(0.5039510578638797, 88.0, 176.0)\n",
      "GPhone2 3000\n",
      "(0.4524135696083197, 92.0, 203.0)\n",
      "GPhone3 3000\n",
      "(0.6173213661265882, 127.0, 205.0)\n",
      "-----------------------------------------\n"
     ]
    }
   ],
   "source": [
    "print(\"Wiht Transportaion\")\n",
    "print(\"Min Final List:\")\n",
    "for product in FinalList:\n",
    "    production_count = int(37.5 * product.value.production_rate)\n",
    "    production_count = 3000   \n",
    "    print(product.value.name, production_count)\n",
    "    print(get_all_data_mean_max(air_plane, product.value, production_count, 2))\n",
    "print(\"-----------------------------------------\")\n"
   ]
  },
  {
   "cell_type": "code",
   "execution_count": 18,
   "metadata": {
    "ExecuteTime": {
     "start_time": "2023-05-11T13:18:24.871396Z",
     "end_time": "2023-05-11T13:18:25.046473Z"
    }
   },
   "outputs": [
    {
     "name": "stdout",
     "output_type": "stream",
     "text": [
      "Wiht Transportaion\n",
      "Max Mean Final List:\n",
      "GPhone1 2000\n",
      "(0.22406639004149378, 32.0, 144.0)\n",
      "GPhone2 2000\n",
      "(0.22111312015455875, 35.0, 161.0)\n",
      "GPhone3 2000\n",
      "(0.3678373382624769, 59.0, 162.0)\n",
      "-----------------------------------------\n"
     ]
    }
   ],
   "source": [
    "print(\"Wiht Transportaion\")\n",
    "print(\"Max Mean Final List:\")\n",
    "for product in FinalList:\n",
    "    production_count = int(37.5 * product.value.production_rate)\n",
    "    production_count = 2000\n",
    "    print(product.value.name, production_count)\n",
    "    print(get_all_data_max_mean(air_plane, product.value, production_count, 2))\n",
    "print(\"-----------------------------------------\")\n"
   ]
  }
 ],
 "metadata": {
  "kernelspec": {
   "display_name": "Python 3 (ipykernel)",
   "language": "python",
   "name": "python3"
  },
  "language_info": {
   "codemirror_mode": {
    "name": "ipython",
    "version": 3
   },
   "file_extension": ".py",
   "mimetype": "text/x-python",
   "name": "python",
   "nbconvert_exporter": "python",
   "pygments_lexer": "ipython3",
   "version": "3.10.6"
  }
 },
 "nbformat": 4,
 "nbformat_minor": 1
}
